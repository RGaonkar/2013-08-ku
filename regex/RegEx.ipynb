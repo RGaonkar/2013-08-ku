{
 "metadata": {
  "name": "RegEx"
 },
 "nbformat": 3,
 "nbformat_minor": 0,
 "worksheets": [
  {
   "cells": [
    {
     "cell_type": "markdown",
     "metadata": {},
     "source": [
      "Open your file of interest"
     ]
    },
    {
     "cell_type": "code",
     "collapsed": false,
     "input": [],
     "language": "python",
     "metadata": {},
     "outputs": [],
     "prompt_number": 47
    },
    {
     "cell_type": "markdown",
     "metadata": {},
     "source": [
      "Import the regular expression module"
     ]
    },
    {
     "cell_type": "code",
     "collapsed": false,
     "input": [
      "import re"
     ],
     "language": "python",
     "metadata": {},
     "outputs": [],
     "prompt_number": 47
    },
    {
     "cell_type": "code",
     "collapsed": false,
     "input": [
      "struct=open(\"structureoutput.txt\").readlines()"
     ],
     "language": "python",
     "metadata": {},
     "outputs": [],
     "prompt_number": 46
    },
    {
     "cell_type": "markdown",
     "metadata": {},
     "source": [
      "I like to take a look to make sure I opened the right thing"
     ]
    },
    {
     "cell_type": "code",
     "collapsed": false,
     "input": [
      "struct[:10]"
     ],
     "language": "python",
     "metadata": {},
     "outputs": [
      {
       "output_type": "pyout",
       "prompt_number": 4,
       "text": [
        "['----------------------------------------------------\\n',\n",
        " 'STRUCTURE by Pritchard, Stephens and Donnelly (2000)\\n',\n",
        " '     and Falush, Stephens and Pritchard (2003)\\n',\n",
        " '       Code by Pritchard, Falush and Hubisz\\n',\n",
        " '             Version 2.3.1 (Febrauary 2009)\\n',\n",
        " '----------------------------------------------------\\n',\n",
        " 'Command line arguments:   /home/ebm447/fastPhase/structure -K 2 -i /home/ebm447/eig/struct3k.inp -N 1464 -L 1814 -o struct_out_2a \\n',\n",
        " 'Input File:    /home/ebm447/eig/struct3k.inp\\n',\n",
        " '\\n',\n",
        " 'Run parameters:\\n']"
       ]
      }
     ],
     "prompt_number": 4
    },
    {
     "cell_type": "markdown",
     "metadata": {},
     "source": [
      "decide what you are searching for in this set of strings (this is where regexpal can be quite handy!)"
     ]
    },
    {
     "cell_type": "code",
     "collapsed": false,
     "input": [
      "sestr=\"\\t\\d\\d\""
     ],
     "language": "python",
     "metadata": {},
     "outputs": [],
     "prompt_number": 10
    },
    {
     "cell_type": "code",
     "collapsed": false,
     "input": [
      "print(sestr)"
     ],
     "language": "python",
     "metadata": {},
     "outputs": [
      {
       "output_type": "stream",
       "stream": "stdout",
       "text": [
        "\t\\d\\d\n"
       ]
      }
     ],
     "prompt_number": 11
    },
    {
     "cell_type": "markdown",
     "metadata": {},
     "source": [
      "Using raw fotmatted string in python is often useful for regular expression searches."
     ]
    },
    {
     "cell_type": "code",
     "collapsed": false,
     "input": [
      "sestr=r\"\\t\\d\\d\""
     ],
     "language": "python",
     "metadata": {},
     "outputs": [],
     "prompt_number": 12
    },
    {
     "cell_type": "code",
     "collapsed": false,
     "input": [
      "print(sestr)"
     ],
     "language": "python",
     "metadata": {},
     "outputs": [
      {
       "output_type": "stream",
       "stream": "stdout",
       "text": [
        "\\t\\d\\d\n"
       ]
      }
     ],
     "prompt_number": 13
    },
    {
     "cell_type": "markdown",
     "metadata": {},
     "source": [
      "Important! when doing a regular expression search in python: search term first: THEN place you are looking.\n",
      "This is a really common mistake, that is hard to notice."
     ]
    },
    {
     "cell_type": "code",
     "collapsed": false,
     "input": [
      "struct[10]"
     ],
     "language": "python",
     "metadata": {},
     "outputs": [
      {
       "output_type": "pyout",
       "prompt_number": 14,
       "text": [
        "'   1464 individuals\\n'"
       ]
      }
     ],
     "prompt_number": 14
    },
    {
     "cell_type": "code",
     "collapsed": false,
     "input": [
      "item=re.search(r\".+\\n\",struct[10])\n",
      "item.group(0)"
     ],
     "language": "python",
     "metadata": {},
     "outputs": [
      {
       "output_type": "pyout",
       "prompt_number": 19,
       "text": [
        "'   1464 individuals\\n'"
       ]
      }
     ],
     "prompt_number": 19
    },
    {
     "cell_type": "code",
     "collapsed": false,
     "input": [
      "item=re.search(r\".+(\\n)\",struct[10])\n",
      "item.group(0)"
     ],
     "language": "python",
     "metadata": {},
     "outputs": [
      {
       "output_type": "pyout",
       "prompt_number": 20,
       "text": [
        "'   1464 individuals\\n'"
       ]
      }
     ],
     "prompt_number": 20
    },
    {
     "cell_type": "code",
     "collapsed": false,
     "input": [
      "item.group(1)"
     ],
     "language": "python",
     "metadata": {},
     "outputs": [
      {
       "output_type": "pyout",
       "prompt_number": 21,
       "text": [
        "'\\n'"
       ]
      }
     ],
     "prompt_number": 21
    },
    {
     "cell_type": "code",
     "collapsed": false,
     "input": [
      "struct[21]"
     ],
     "language": "python",
     "metadata": {},
     "outputs": [
      {
       "output_type": "pyout",
       "prompt_number": 22,
       "text": [
        "'100:     0.009  0.991              90\\n'"
       ]
      }
     ],
     "prompt_number": 22
    },
    {
     "cell_type": "code",
     "collapsed": false,
     "input": [
      "match=re.search(r\"\\d\\d\\d:\\s .+\",struct[21])\n",
      "print(match)"
     ],
     "language": "python",
     "metadata": {},
     "outputs": [
      {
       "output_type": "stream",
       "stream": "stdout",
       "text": [
        "<_sre.SRE_Match object at 0x10276db90>\n"
       ]
      }
     ],
     "prompt_number": 23
    },
    {
     "cell_type": "code",
     "collapsed": false,
     "input": [
      "match.group(0)"
     ],
     "language": "python",
     "metadata": {},
     "outputs": [
      {
       "output_type": "pyout",
       "prompt_number": 24,
       "text": [
        "'100:     0.009  0.991              90'"
       ]
      }
     ],
     "prompt_number": 24
    },
    {
     "cell_type": "code",
     "collapsed": false,
     "input": [
      "match.group(1)"
     ],
     "language": "python",
     "metadata": {},
     "outputs": [
      {
       "ename": "IndexError",
       "evalue": "no such group",
       "output_type": "pyerr",
       "traceback": [
        "\u001b[0;31m---------------------------------------------------------------------------\u001b[0m\n\u001b[0;31mIndexError\u001b[0m                                Traceback (most recent call last)",
        "\u001b[0;32m<ipython-input-25-0abdbac90d58>\u001b[0m in \u001b[0;36m<module>\u001b[0;34m()\u001b[0m\n\u001b[0;32m----> 1\u001b[0;31m \u001b[0mmatch\u001b[0m\u001b[0;34m.\u001b[0m\u001b[0mgroup\u001b[0m\u001b[0;34m(\u001b[0m\u001b[0;36m1\u001b[0m\u001b[0;34m)\u001b[0m\u001b[0;34m\u001b[0m\u001b[0m\n\u001b[0m",
        "\u001b[0;31mIndexError\u001b[0m: no such group"
       ]
      }
     ],
     "prompt_number": 25
    },
    {
     "cell_type": "code",
     "collapsed": false,
     "input": [
      "match2=re.search(r\"(\\d\\d\\d):\\s+(\\d+\\.\\d+)\\s+(\\d+\\.\\d+).+\",struct[21])"
     ],
     "language": "python",
     "metadata": {},
     "outputs": [],
     "prompt_number": 26
    },
    {
     "cell_type": "code",
     "collapsed": false,
     "input": [
      "match2"
     ],
     "language": "python",
     "metadata": {},
     "outputs": [
      {
       "output_type": "pyout",
       "prompt_number": 27,
       "text": [
        "<_sre.SRE_Match at 0x102494750>"
       ]
      }
     ],
     "prompt_number": 27
    },
    {
     "cell_type": "code",
     "collapsed": false,
     "input": [
      "match2.group(0)"
     ],
     "language": "python",
     "metadata": {},
     "outputs": [
      {
       "output_type": "pyout",
       "prompt_number": 28,
       "text": [
        "'100:     0.009  0.991              90'"
       ]
      }
     ],
     "prompt_number": 28
    },
    {
     "cell_type": "code",
     "collapsed": false,
     "input": [
      "print(match2.group(1))\n",
      "print(match2.group(2))\n",
      "print(match2.group(3))"
     ],
     "language": "python",
     "metadata": {},
     "outputs": [
      {
       "output_type": "stream",
       "stream": "stdout",
       "text": [
        "100\n",
        "0.009\n",
        "0.991\n"
       ]
      }
     ],
     "prompt_number": 29
    },
    {
     "cell_type": "markdown",
     "metadata": {},
     "source": [
      "Really cool way to print things!"
     ]
    },
    {
     "cell_type": "markdown",
     "metadata": {},
     "source": [
      "And, make a function!"
     ]
    },
    {
     "cell_type": "code",
     "collapsed": false,
     "input": [
      "def ancestry(fil):\n",
      "    for lin in struct:\n",
      "        match=re.search(r\"(\\d\\d\\d):\\s+(\\d+\\.\\d+)\\s+(\\d+\\.\\d+).+\",lin)\n",
      "        if match:\n",
      "            print(\"Percent indicus ancestry for breed %s is %i%%\" %(match.group(1),int(100*float(match.group(2)))))"
     ],
     "language": "python",
     "metadata": {},
     "outputs": [],
     "prompt_number": 37
    },
    {
     "cell_type": "code",
     "collapsed": false,
     "input": [
      "def ancestry(fil):\n",
      "    for lin in struct:\n",
      "        match=re.search(r\"(\\d\\d\\d):\\s+(\\d+\\.\\d+)\\s+(\\d+\\.\\d+).+\",lin)\n",
      "        if match:\n",
      "            print(\"Percent indicus ancestry for breed {pct} is {lalala}%\".format(pct=match.group(1),lalala=int(100*float(match.group(2)))))"
     ],
     "language": "python",
     "metadata": {},
     "outputs": [],
     "prompt_number": 41
    },
    {
     "cell_type": "code",
     "collapsed": false,
     "input": [
      "ancestry(struct)"
     ],
     "language": "python",
     "metadata": {},
     "outputs": [
      {
       "output_type": "stream",
       "stream": "stdout",
       "text": [
        "Percent indicus ancestry for breed 100 is 0 %\n",
        "Percent indicus ancestry for breed 101 is 1 %\n",
        "Percent indicus ancestry for breed 102 is 2 %\n",
        "Percent indicus ancestry for breed 103 is 4 %\n",
        "Percent indicus ancestry for breed 104 is 1 %\n",
        "Percent indicus ancestry for breed 105 is 10 %\n",
        "Percent indicus ancestry for breed 106 is 14 %\n",
        "Percent indicus ancestry for breed 107 is 1 %\n",
        "Percent indicus ancestry for breed 109 is 3 %\n",
        "Percent indicus ancestry for breed 110 is 11 %\n",
        "Percent indicus ancestry for breed 111 is 9 %\n"
       ]
      }
     ],
     "prompt_number": 42
    },
    {
     "cell_type": "code",
     "collapsed": false,
     "input": [
      "searchstr=re.compile(r\"(\\d\\d\\d):\\s+(\\d+\\.\\d+)\\s+(\\d+\\.\\d+).+\")\n",
      "print(searchstr)"
     ],
     "language": "python",
     "metadata": {},
     "outputs": [
      {
       "output_type": "stream",
       "stream": "stdout",
       "text": [
        "<_sre.SRE_Pattern object at 0x103627650>\n"
       ]
      }
     ],
     "prompt_number": 33
    },
    {
     "cell_type": "code",
     "collapsed": false,
     "input": [
      "searchstr.match(struct[21])"
     ],
     "language": "python",
     "metadata": {},
     "outputs": [
      {
       "output_type": "pyout",
       "prompt_number": 34,
       "text": [
        "<_sre.SRE_Match at 0x1024947e8>"
       ]
      }
     ],
     "prompt_number": 34
    },
    {
     "cell_type": "code",
     "collapsed": false,
     "input": [],
     "language": "python",
     "metadata": {},
     "outputs": []
    }
   ],
   "metadata": {}
  }
 ]
}