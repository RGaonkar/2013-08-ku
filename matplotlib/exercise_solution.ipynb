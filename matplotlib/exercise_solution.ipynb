{
 "metadata": {
  "name": "Exercise solution"
 },
 "nbformat": 3,
 "nbformat_minor": 0,
 "worksheets": [
  {
   "cells": [
    {
     "cell_type": "markdown",
     "metadata": {},
     "source": [
      "Mini excerise solution"
     ]
    },
    {
     "cell_type": "code",
     "collapsed": false,
     "input": [
      "import matplotlib.pyplot as plt"
     ],
     "language": "python",
     "metadata": {},
     "outputs": [],
     "prompt_number": 2
    },
    {
     "cell_type": "code",
     "collapsed": false,
     "input": [
      "myfig=plt.figure()\n",
      "ax1=myfig.add_subplot(131)\n",
      "ax2=myfig.add_subplot(132)\n",
      "ax3=myfig.add_subplot(133)\n",
      "for i in range(20):\n",
      "   ax1.plot(i,i,'x',color=\"red\")\n",
      "   ax2.plot(i,i*i,'*',color=\"green\")\n",
      "   ax3.plot(i,i**3,'>',color=\"blue\")\n",
      "    \n",
      "ax1.set_ylim(0,100)\n",
      "ax2.set_ylim(0,100)\n",
      "ax3.set_ylim(0,100)\n",
      "ax1.set_title(\"$i$\",fontsize='20')\n",
      "ax2.set_title(r\"$i^2$\",fontsize='20')\n",
      "ax3.set_title(r\"$i^3$\",fontsize='20')\n",
      "ax1.set_ylabel(r\"$f(n)$\",fontsize='20')\n",
      "ax1.set_xlabel(\"$i$\",fontsize='20')\n",
      "ax2.set_xlabel(\"$i$\",fontsize='20')\n",
      "ax3.set_xlabel(\"$i$\",fontsize='20')\n",
      "myfig.savefig(\"Exercise.pdf\")"
     ],
     "language": "python",
     "metadata": {},
     "outputs": [
      {
       "output_type": "display_data",
       "png": "[encoded data removed]"
      }
     ],
     "prompt_number": 6
    },
    {
     "cell_type": "code",
     "collapsed": false,
     "input": [],
     "language": "python",
     "metadata": {},
     "outputs": []
    }
   ],
   "metadata": {}
  }
 ]
}